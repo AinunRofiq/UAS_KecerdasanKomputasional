{
  "nbformat": 4,
  "nbformat_minor": 0,
  "metadata": {
    "colab": {
      "provenance": []
    },
    "kernelspec": {
      "name": "python3",
      "display_name": "Python 3"
    },
    "language_info": {
      "name": "python"
    }
  },
  "cells": [
    {
      "cell_type": "markdown",
      "source": [
        "Impor library Pandas"
      ],
      "metadata": {
        "id": "MxFr1WEyu6T4"
      }
    },
    {
      "cell_type": "code",
      "execution_count": 1,
      "metadata": {
        "id": "F1L6oyq_iWYF"
      },
      "outputs": [],
      "source": [
        "import pandas as pd"
      ]
    },
    {
      "cell_type": "markdown",
      "source": [
        "Fungsi untuk mengecek nilai emosi yang dideklarasikan"
      ],
      "metadata": {
        "id": "0TiNdVYSvE4e"
      }
    },
    {
      "cell_type": "code",
      "source": [
        "def checkEmotion(x):\n",
        "    eLow, eMedium, eHigh = 0,0,0\n",
        "\n",
        "    if x >= 0 and x <= 35:\n",
        "        eLow    = 1\n",
        "\n",
        "    elif x > 35 and x < 39:\n",
        "        eLow    = (-1*((x-39)/(39-35)))\n",
        "        eMedium = ((x-35)/(39-35))\n",
        "\n",
        "    elif x >= 39 and x <= 61:\n",
        "        eMedium = 1\n",
        "\n",
        "    elif x > 61 and x <65:\n",
        "        eMedium = (-1*((x-65)/(65-61)))\n",
        "        eHigh   = ((x-61)/(65-1))\n",
        "\n",
        "    elif x >= 65:\n",
        "        eHigh   = 1\n",
        "\n",
        "    return eLow, eMedium, eHigh"
      ],
      "metadata": {
        "id": "e5GAuaDzrkL9"
      },
      "execution_count": 2,
      "outputs": []
    },
    {
      "cell_type": "markdown",
      "source": [
        "Fungsi untuk memeriksa nilai provokasi yang dideklarasikan"
      ],
      "metadata": {
        "id": "xbS5ufoLvOyF"
      }
    },
    {
      "cell_type": "code",
      "source": [
        "def checkProvoke(x):\n",
        "    pLow, pMedium, pHigh = 0,0,0\n",
        "\n",
        "    if x >= 0 and x <= 55:\n",
        "        pLow    = 1\n",
        "\n",
        "    elif x > 55 and x < 60:\n",
        "        pLow    = (-1*(x-60)/(60-55))\n",
        "        pMedium = ((x-55)/(60-55))\n",
        "\n",
        "    elif x >= 60 and x <= 85:\n",
        "        pMedium = 1\n",
        "\n",
        "    elif x > 85 and x < 87:\n",
        "        pMedium = (-1*(x-87)/(82-87))\n",
        "        pHigh   = ((x-85)/(87-85))\n",
        "\n",
        "    elif x >= 87:\n",
        "        pHigh   = 1\n",
        "\n",
        "    return pLow, pMedium, pHigh"
      ],
      "metadata": {
        "id": "bJI04y2lr5Yc"
      },
      "execution_count": 3,
      "outputs": []
    },
    {
      "cell_type": "markdown",
      "source": [
        "Deklarasi fungsi \"inference\" untuk mengkomputasi nilai output fuzzy dengan menggabungkan emosi dan provokasi"
      ],
      "metadata": {
        "id": "uoJiq7irvXbd"
      }
    },
    {
      "cell_type": "code",
      "source": [
        "def inference(eLow, eMedium, eHigh, pLow, pMedium, pHigh):\n",
        "    Y1,Y2,Y3,Y4,Y5 = 0,0,0,0,0\n",
        "    N1,N2,N3,N4 = 0,0,0,0\n",
        "    Y,N = 0,0\n",
        "\n",
        "    if eHigh != 0 and pHigh != 0:\n",
        "        Y1 = min(eHigh,pHigh)\n",
        "\n",
        "    if eHigh != 0 and pMedium != 0:\n",
        "        Y2 = min(eHigh,pMedium)\n",
        "\n",
        "    if eHigh != 0 and pLow != 0:\n",
        "        N1 = min(eHigh,pLow)\n",
        "\n",
        "    if eMedium != 0 and pHigh !=0:\n",
        "        Y3 = min(eMedium,pHigh)\n",
        "\n",
        "    if eMedium != 0 and pMedium != 0:\n",
        "        N2 = min(eMedium,pMedium)\n",
        "\n",
        "    if eMedium != 0 and pLow != 0:\n",
        "        N3 = min(eMedium,pLow)\n",
        "\n",
        "    if eLow != 0 and pHigh != 0:\n",
        "        Y4 = min(eLow,pHigh)\n",
        "\n",
        "    if eLow != 0 and pMedium != 0:\n",
        "        Y5 = min(eLow,pMedium)\n",
        "\n",
        "    if eLow != 0 and pLow != 0:\n",
        "        N4 = min(eLow,pLow)\n",
        "\n",
        "    Y = max(Y1,Y2,Y3,Y4,Y5)\n",
        "    N = max(N1,N2,N3,N4)\n",
        "    return Y,N"
      ],
      "metadata": {
        "id": "7nPxhoU2vkI7"
      },
      "execution_count": 8,
      "outputs": []
    },
    {
      "cell_type": "markdown",
      "source": [
        "Deklarasi fungsi \"defuzzification\" untuk mengubah nilai fuzzy menjadi nilai konkret atau melakukan proses defuzzifikasi"
      ],
      "metadata": {
        "id": "S7MezoC7v2Vq"
      }
    },
    {
      "cell_type": "code",
      "source": [
        "def defuzzification(Y,N):\n",
        "    if Y != 0 and N != 0:\n",
        "        return ((Y*60)+(N*40))/(Y+N)\n",
        "    elif Y != 0:\n",
        "        return (Y*60)/Y\n",
        "    elif N != 0:\n",
        "        return (N*40)/N"
      ],
      "metadata": {
        "id": "exyk0yLqsT-a"
      },
      "execution_count": 5,
      "outputs": []
    },
    {
      "cell_type": "markdown",
      "source": [
        "Program Utama"
      ],
      "metadata": {
        "id": "PffURjtawESE"
      }
    },
    {
      "cell_type": "code",
      "source": [
        "# Membaca file dari excel\n",
        "data = pd.read_excel('News.xlsx') # jalur file Excel\n",
        "\n",
        "# Ekstrak value nilai dari excel\n",
        "news = data['News'].tolist()\n",
        "emotion = data['Emotion'].tolist()\n",
        "provoke = data['Provoke'].tolist()\n",
        "\n",
        "count = 0\n",
        "while count < len(news):\n",
        "    eLow, eMedium, eHigh = checkEmotion(emotion[count])\n",
        "    pLow, pMedium, pHigh = checkProvoke(provoke[count])\n",
        "    Ya, Tidak = inference(eLow, eMedium, eHigh, pLow, pMedium, pHigh)\n",
        "    hasil = defuzzification(Ya, Tidak)\n",
        "    if hasil < 55.0:\n",
        "        hoax = \"No\"\n",
        "    elif hasil >= 55.0:\n",
        "        hoax = \"Yes\"\n",
        "    print(\"News:\", news[count], \" Emotion:\", emotion[count], \" Provoke:\", provoke[count], \" Hoax:\", hoax)\n",
        "\n",
        "    count += 1"
      ],
      "metadata": {
        "colab": {
          "base_uri": "https://localhost:8080/"
        },
        "id": "Y1VnD-P5scl4",
        "outputId": "c6e390db-c93a-4e84-80db-1b5d9d9965c9"
      },
      "execution_count": 7,
      "outputs": [
        {
          "output_type": "stream",
          "name": "stdout",
          "text": [
            "News: B01  Emotion: 97  Provoke: 74  Hoax: Yes\n",
            "News: B02  Emotion: 36  Provoke: 85  Hoax: Yes\n",
            "News: B03  Emotion: 63  Provoke: 43  Hoax: No\n",
            "News: B04  Emotion: 82  Provoke: 90  Hoax: Yes\n",
            "News: B05  Emotion: 71  Provoke: 25  Hoax: No\n",
            "News: B06  Emotion: 79  Provoke: 81  Hoax: Yes\n",
            "News: B07  Emotion: 55  Provoke: 62  Hoax: No\n",
            "News: B08  Emotion: 57  Provoke: 45  Hoax: No\n",
            "News: B09  Emotion: 40  Provoke: 65  Hoax: No\n",
            "News: B10  Emotion: 57  Provoke: 45  Hoax: No\n",
            "News: B11  Emotion: 77  Provoke: 70  Hoax: Yes\n",
            "News: B12  Emotion: 68  Provoke: 75  Hoax: Yes\n",
            "News: B13  Emotion: 60  Provoke: 70  Hoax: No\n",
            "News: B14  Emotion: 82  Provoke: 90  Hoax: Yes\n",
            "News: B15  Emotion: 40  Provoke: 85  Hoax: No\n",
            "News: B16  Emotion: 80  Provoke: 68  Hoax: Yes\n",
            "News: B17  Emotion: 60  Provoke: 72  Hoax: No\n",
            "News: B18  Emotion: 50  Provoke: 95  Hoax: Yes\n",
            "News: B19  Emotion: 100  Provoke: 18  Hoax: No\n",
            "News: B20  Emotion: 11  Provoke: 99  Hoax: Yes\n",
            "News: B21  Emotion: 58  Provoke: 63  Hoax: No\n",
            "News: B22  Emotion: 68  Provoke: 70  Hoax: Yes\n",
            "News: B23  Emotion: 64  Provoke: 66  Hoax: No\n",
            "News: B24  Emotion: 57  Provoke: 77  Hoax: No\n",
            "News: B25  Emotion: 77  Provoke: 55  Hoax: No\n",
            "News: B26  Emotion: 98  Provoke: 64  Hoax: Yes\n",
            "News: B27  Emotion: 91  Provoke: 59  Hoax: Yes\n",
            "News: B28  Emotion: 50  Provoke: 95  Hoax: Yes\n",
            "News: B29  Emotion: 95  Provoke: 55  Hoax: No\n",
            "News: B30  Emotion: 27  Provoke: 79  Hoax: Yes\n"
          ]
        }
      ]
    },
    {
      "cell_type": "markdown",
      "source": [
        "Data dalam source code akan otomatis berubah jika data di file Excel mengalami perubahan. Hal ini terjadi karena kode sumber langsung membaca data dari file Excel setiap kali dijalankan. Sehingga, ketika ada perubahan pada data di file Excel, ketika kode dijalankan, data yang akan digunakan adalah data terbaru yang telah diperbarui.\n",
        "\n",
        "Pendekatan ini memastikan bahwa kode selalu menggunakan data terbaru yang ada di file Excel dan melakukan operasi berdasarkan data tersebut. Dengan demikian, ketika terjadi perubahan pada data di file Excel, hasil yang dihasilkan oleh kode juga akan berubah sesuai dengan perubahan yang terjadi pada file Excel tersebut."
      ],
      "metadata": {
        "id": "B7-ipAy4wIzq"
      }
    }
  ]
}